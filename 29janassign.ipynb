{
 "cells": [
  {
   "cell_type": "markdown",
   "id": "8592996d-0071-4c20-bd0d-c91c129524a7",
   "metadata": {},
   "source": [
    "Q1 Who developed Python Programming Language? "
   ]
  },
  {
   "cell_type": "markdown",
   "id": "2f58bb0f-09e9-456a-9594-cf3e44e336c6",
   "metadata": {},
   "source": [
    "Python programming language was developed by Guido van Rossum."
   ]
  },
  {
   "cell_type": "markdown",
   "id": "9bf0be39-0b31-42aa-89c4-5fe0b5b90951",
   "metadata": {},
   "source": [
    "Q2 Which type of Programming does Python support? "
   ]
  },
  {
   "cell_type": "markdown",
   "id": "e7dad0dc-0ac1-4a54-afee-6e3424ca7aa9",
   "metadata": {},
   "source": [
    "Python is an interpreted programming language, supporting object-oriented, structured, and functional programming."
   ]
  },
  {
   "cell_type": "markdown",
   "id": "50093a56-223a-45a7-bf1e-3899b99af67a",
   "metadata": {},
   "source": [
    "Q3 Is Python case sensitive when dealing with identifiers?"
   ]
  },
  {
   "cell_type": "markdown",
   "id": "f3b6f6ee-1c10-4154-ae2a-d95d8a3d3ddf",
   "metadata": {},
   "source": [
    "Yes, Python is a case-sensitive when dealing with the identifiers."
   ]
  },
  {
   "cell_type": "markdown",
   "id": "93142215-cdfe-4f4e-a2bb-41ae233419b9",
   "metadata": {},
   "source": [
    "Q4 What is the correct extension of the Python file? "
   ]
  },
  {
   "cell_type": "markdown",
   "id": "3f95b191-a4a8-4490-abe1-decbce75909b",
   "metadata": {},
   "source": [
    ".py is the correct extension."
   ]
  },
  {
   "cell_type": "markdown",
   "id": "d2b1ada5-839a-4738-b6ab-d5101c342fbf",
   "metadata": {},
   "source": [
    "Q5 Is Python code compiled or interpreted? "
   ]
  },
  {
   "cell_type": "markdown",
   "id": "d3e9414c-0eb6-4073-8f28-0a6aeb66a5db",
   "metadata": {},
   "source": [
    "Python is an interpreted language, which means the source code of a Python program is converted into bytecode that is then executed by the Python virtual machine."
   ]
  },
  {
   "cell_type": "markdown",
   "id": "36920233-6f7e-40bd-889a-825d0935d87a",
   "metadata": {},
   "source": [
    "Q6 Name a few blocks of code used to define in Python language? "
   ]
  },
  {
   "cell_type": "markdown",
   "id": "f9b00996-ecdf-4431-a830-d85040d6d4bf",
   "metadata": {},
   "source": [
    "Some blocks of code are a module, a function body, and a class definition."
   ]
  },
  {
   "cell_type": "markdown",
   "id": "66583234-c102-49c9-ab75-4d3f50965dcc",
   "metadata": {},
   "source": [
    "Q7 State a character used to give single-line comments in Python?"
   ]
  },
  {
   "cell_type": "markdown",
   "id": "3380769c-08fa-4922-a39d-c78f3c47c3e3",
   "metadata": {},
   "source": [
    "Hash character(#) is used to comment single-line in the Python program."
   ]
  },
  {
   "cell_type": "markdown",
   "id": "d1ca6536-5709-47ad-a88c-3b4355966ceb",
   "metadata": {},
   "source": [
    "Q8 Mention functions which can help us to find the version of python that we are currently working on? "
   ]
  },
  {
   "cell_type": "markdown",
   "id": "7ff307f9-9989-4c87-9a75-fe258b8fd9b1",
   "metadata": {},
   "source": [
    "The function which helps us to find the current version of python is    sys.version."
   ]
  },
  {
   "cell_type": "markdown",
   "id": "eb8c982e-2136-4378-9bcd-eb251a7c6eca",
   "metadata": {},
   "source": [
    "Q9 Python supports the creation of anonymous functions at runtime, using a construct called ------ "
   ]
  },
  {
   "cell_type": "markdown",
   "id": "bc9d5d05-f10e-4116-9101-6535ad46222c",
   "metadata": {},
   "source": [
    "lambda."
   ]
  },
  {
   "cell_type": "markdown",
   "id": "c0665ea8-3303-4f52-b90c-e2f2e01d2312",
   "metadata": {},
   "source": [
    "Q10 What does pip stand for python?"
   ]
  },
  {
   "cell_type": "markdown",
   "id": "9360e118-ec7a-422f-8336-c569213b8343",
   "metadata": {},
   "source": [
    "pip stands for \"preferred installer program\"."
   ]
  },
  {
   "cell_type": "markdown",
   "id": "27286cbd-b1fc-4603-ac2f-fd758444b7fa",
   "metadata": {},
   "source": [
    "Q11 Mention a few built-in functions in python? "
   ]
  },
  {
   "cell_type": "markdown",
   "id": "84bf12a4-6bcd-4ff7-83ed-13b1a17c438b",
   "metadata": {},
   "source": [
    "In-built functions in python are :-  print(),range(),bool(),dict(),float(),id(),int(),input(),len(),list(),map(),min(),max(),set(),slice(),sum(),tuple() ... and many more."
   ]
  },
  {
   "cell_type": "markdown",
   "id": "ec1fdb33-38d3-400c-b75f-6bb46cb39873",
   "metadata": {},
   "source": [
    "Q12 What is the maximum possible length of an identifier in Python? "
   ]
  },
  {
   "cell_type": "markdown",
   "id": "3a11f179-b953-470e-884f-979c08924038",
   "metadata": {},
   "source": [
    "An identifier can have a maximum length of 79 characters in Python."
   ]
  },
  {
   "cell_type": "markdown",
   "id": "77c770bf-fda8-45bd-8753-3b3ea9fdec03",
   "metadata": {},
   "source": [
    "Q13 What are the benefits of using Python? "
   ]
  },
  {
   "cell_type": "markdown",
   "id": "74fc56de-4223-4331-852c-1be255ec365e",
   "metadata": {},
   "source": [
    "Python programming language is a general-purpose, interpreted, and high-level language that mainly offers code readability. It is largely used by professional programmers and developers across a variety of fields, including Web Development and Machine Learning.\n",
    "\n",
    "\n",
    "The benefits of using python are :-\n",
    "\n",
    "1)Python, being an interpreted language, can execute the code directly, one line after the other. Moreover, if there is any error, then rather than continuing with further execution, it instead reports back the error that occurred.\n",
    "\n",
    "2)Python has an open-source license and is available for users for free, allowing you to easily distribute it. With Python, you can download any source code and further modify and distribute your version of the code in Python.\n",
    "\n",
    "3)In Python, you need to write the code only once, and you can run it on any platform, adapting the ‘write once, run anywhere’ feature.\n",
    "\n",
    "4)Python’s standard library is vast, and herein, you can find all the necessary functions you require for any given task. This makes Python independent of external libraries. "
   ]
  },
  {
   "cell_type": "markdown",
   "id": "284dcb11-5536-4213-b916-8cd794dca46c",
   "metadata": {},
   "source": [
    "Q14 How is memory managed in Python? "
   ]
  },
  {
   "cell_type": "markdown",
   "id": "0582ee3d-fc70-4dc5-aaa7-4e9ff74e82e1",
   "metadata": {},
   "source": [
    "Memory management in Python involves a private heap containing all Python objects and data structures. The management of this private heap is ensured internally by the Python memory manager. The Python memory manager has different components which deal with various dynamic storage management aspects, like sharing, segmentation, preallocation or caching.\n",
    "\n",
    "The management of the Python heap is performed by the interpreter itself and that the user has no control over it, even if they regularly manipulate object pointers to memory blocks inside that heap. The allocation of heap space for Python objects and other internal buffers is performed by the Python memory manager through the Python/C API function."
   ]
  },
  {
   "cell_type": "markdown",
   "id": "697c1a95-5d1a-4168-9c34-ff03094a5776",
   "metadata": {},
   "source": [
    "Q15 How to install Python on Windows and set path variables? 16. Is indentation required in python? "
   ]
  },
  {
   "cell_type": "markdown",
   "id": "418d0f3e-7661-49f0-8dfe-d0d7241f98f8",
   "metadata": {},
   "source": [
    "Steps for installing puthon on windows:\n",
    "\n",
    "1)To download Python, you need to visit www.python.org, which is the official Python website.\n",
    "\n",
    "2)Click on the Downloads tab and then select the Windows option.\n",
    "\n",
    "3)This will take you to the page where the different Python releases for Windows can be found.\n",
    "\n",
    "  Ex- Since I am using a 64bit system, I’ll select “Windows x86-64 executable installer”.\n",
    "  \n",
    "4)Once the executable file download is complete, you can open it to install Python.\n",
    "\n",
    "5)Click on Run, which will start the installation process.\n",
    "\n",
    "6)If you want to save the installation file in a different location, click on Customize installation; otherwise, continue   with Install Now. Also, select the checkbox at the bottom to Add Python 3.7 to PATH.\n",
    "\n",
    "7)Once the installation is complete, the below pop-up box will appear: Setup was successful.\n",
    "\n",
    "8)Now that the installation is complete, you need to verify that everything is working fine.\n",
    "\n",
    " Go to Start and search for Python.\n",
    "\n",
    "9)You can see Python 3.7 (64-bit) and IDLE.\n",
    "\n",
    " Let’s open IDLE, which is the short form for Integrated Development Environment, and run a simple print statement.\n",
    "\n",
    "Steps for setting Path variables:-\n",
    "\n",
    "1)Right-clicking This PC and going to Properties.\n",
    "\n",
    "2)Clicking on the Advanced system settings in the menu on the left.\n",
    "\n",
    "3)Clicking on the Environment Variables button on the bottom right.\n",
    "\n",
    "4)In the System variables section, selecting the Path variable and clicking on Edit. The next screen will show all the directories that are currently a part of the PATH variable.\n",
    "\n",
    "5)Clicking on New and entering Python’s install directory."
   ]
  },
  {
   "cell_type": "markdown",
   "id": "01d63e46-9c81-4dd7-814d-c98a22d37687",
   "metadata": {},
   "source": [
    "Q16 Is indentation required in python?"
   ]
  },
  {
   "cell_type": "markdown",
   "id": "19fefb15-51c0-49b5-806a-f6dd45cec0b8",
   "metadata": {},
   "source": [
    "Yes, indentation is required in python."
   ]
  },
  {
   "cell_type": "markdown",
   "id": "00c99ea7-19c5-4144-a1ae-f34969fb4047",
   "metadata": {},
   "source": [
    "-----------------------"
   ]
  }
 ],
 "metadata": {
  "kernelspec": {
   "display_name": "Python 3 (ipykernel)",
   "language": "python",
   "name": "python3"
  },
  "language_info": {
   "codemirror_mode": {
    "name": "ipython",
    "version": 3
   },
   "file_extension": ".py",
   "mimetype": "text/x-python",
   "name": "python",
   "nbconvert_exporter": "python",
   "pygments_lexer": "ipython3",
   "version": "3.10.8"
  }
 },
 "nbformat": 4,
 "nbformat_minor": 5
}
